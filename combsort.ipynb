{
 "cells": [
  {
   "cell_type": "code",
   "execution_count": 4,
   "metadata": {},
   "outputs": [
    {
     "name": "stdout",
     "output_type": "stream",
     "text": [
      "Sorted array:\n",
      "-44\n",
      "-6\n",
      "0\n",
      "1\n",
      "3\n",
      "4\n",
      "8\n",
      "23\n",
      "28\n"
     ]
    }
   ],
   "source": [
    "def getNextGap(gap): \n",
    "    gap = int((gap * 10)/13)\n",
    "    if gap < 1: \n",
    "        return 1\n",
    "    return gap \n",
    "  \n",
    "def combSort(arr): \n",
    "    n = len(arr) \n",
    "    gap = n \n",
    "    swapped = True\n",
    "\n",
    "    while gap !=1 or swapped == 1: \n",
    "        gap = getNextGap(gap) \n",
    "        swapped = False\n",
    "        for i in range(0, n-gap): \n",
    "            if arr[i] > arr[i + gap]: \n",
    "                arr[i], arr[i + gap]=arr[i + gap], arr[i] \n",
    "                swapped = True\n",
    "\n",
    "arr = [ 8, 4, 1, 3, -44, 23, -6, 28, 0] \n",
    "combSort(arr) \n",
    "  \n",
    "print (\"Sorted array:\") \n",
    "for i in range(len(arr)): \n",
    "    print (arr[i]), "
   ]
  }
 ],
 "metadata": {
  "kernelspec": {
   "display_name": "Python 3",
   "language": "python",
   "name": "python3"
  },
  "language_info": {
   "codemirror_mode": {
    "name": "ipython",
    "version": 3
   },
   "file_extension": ".py",
   "mimetype": "text/x-python",
   "name": "python",
   "nbconvert_exporter": "python",
   "pygments_lexer": "ipython3",
   "version": "3.6.4"
  }
 },
 "nbformat": 4,
 "nbformat_minor": 2
}
