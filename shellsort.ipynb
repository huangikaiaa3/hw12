{
 "cells": [
  {
   "cell_type": "code",
   "execution_count": 7,
   "metadata": {},
   "outputs": [
    {
     "name": "stdout",
     "output_type": "stream",
     "text": [
      "Array before sorting:\n",
      "12\n",
      "34\n",
      "54\n",
      "2\n",
      "3\n",
      "\n",
      "Array after sorting:\n",
      "2\n",
      "3\n",
      "12\n",
      "34\n",
      "54\n"
     ]
    }
   ],
   "source": [
    "def shellSort(arr): \n",
    "    n = len(arr) \n",
    "    gap = int(n/2)\n",
    "\n",
    "    while gap > 0: \n",
    "        for i in range(gap,n): \n",
    "            temp = arr[i] \n",
    "            j = i \n",
    "            while  j >= gap and arr[j-gap] >temp: \n",
    "                arr[j] = arr[j-gap] \n",
    "                j -= gap \n",
    "            arr[j] = temp \n",
    "        gap = int(gap/2)\n",
    "  \n",
    "\n",
    "arr = [ 12, 34, 54, 2, 3] \n",
    "  \n",
    "n = len(arr) \n",
    "print (\"Array before sorting:\") \n",
    "for i in range(n): \n",
    "    print(arr[i]),\n",
    "\n",
    "shellSort(arr) \n",
    "  \n",
    "print (\"\\nArray after sorting:\") \n",
    "for i in range(n): \n",
    "    print(arr[i]), "
   ]
  }
 ],
 "metadata": {
  "kernelspec": {
   "display_name": "Python 3",
   "language": "python",
   "name": "python3"
  },
  "language_info": {
   "codemirror_mode": {
    "name": "ipython",
    "version": 3
   },
   "file_extension": ".py",
   "mimetype": "text/x-python",
   "name": "python",
   "nbconvert_exporter": "python",
   "pygments_lexer": "ipython3",
   "version": "3.6.4"
  }
 },
 "nbformat": 4,
 "nbformat_minor": 2
}
