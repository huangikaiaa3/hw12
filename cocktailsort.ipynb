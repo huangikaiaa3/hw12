{
 "cells": [
  {
   "cell_type": "code",
   "execution_count": 2,
   "metadata": {},
   "outputs": [
    {
     "name": "stdout",
     "output_type": "stream",
     "text": [
      "Sorted array is:\n",
      "0\n",
      "1\n",
      "2\n",
      "2\n",
      "4\n",
      "5\n",
      "8\n"
     ]
    }
   ],
   "source": [
    "def cocktailSort(a): \n",
    "    n = len(a) \n",
    "    swapped = True\n",
    "    start = 0\n",
    "    end = n-1\n",
    "    while (swapped==True): \n",
    "        swapped = False\n",
    "        for i in range (start, end): \n",
    "            if (a[i] > a[i+1]) : \n",
    "                a[i], a[i+1]= a[i+1], a[i] \n",
    "                swapped=True\n",
    "\n",
    "        if (swapped==False): \n",
    "            break\n",
    "\n",
    "        swapped = False\n",
    "        end = end-1\n",
    "\n",
    "        for i in range(end-1, start-1,-1): \n",
    "            if (a[i] > a[i+1]): \n",
    "                a[i], a[i+1] = a[i+1], a[i] \n",
    "                swapped = True\n",
    "\n",
    "        start = start+1\n",
    "        \n",
    "a = [5, 1, 4, 2, 8, 0, 2] \n",
    "cocktailSort(a) \n",
    "print(\"Sorted array is:\") \n",
    "for i in range(len(a)): \n",
    "    print (\"%d\" %a[i]), "
   ]
  }
 ],
 "metadata": {
  "kernelspec": {
   "display_name": "Python 3",
   "language": "python",
   "name": "python3"
  },
  "language_info": {
   "codemirror_mode": {
    "name": "ipython",
    "version": 3
   },
   "file_extension": ".py",
   "mimetype": "text/x-python",
   "name": "python",
   "nbconvert_exporter": "python",
   "pygments_lexer": "ipython3",
   "version": "3.6.4"
  }
 },
 "nbformat": 4,
 "nbformat_minor": 2
}
