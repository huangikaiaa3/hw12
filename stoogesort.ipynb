{
 "cells": [
  {
   "cell_type": "code",
   "execution_count": 1,
   "metadata": {},
   "outputs": [
    {
     "name": "stdout",
     "output_type": "stream",
     "text": [
      "1\n",
      "2\n",
      "3\n",
      "4\n",
      "5\n"
     ]
    }
   ],
   "source": [
    "def stoogesort(arr, l, h):\n",
    "    if l >= h:\n",
    "        return\n",
    "    \n",
    "    if arr[l]>arr[h]:\n",
    "        t = arr[l]\n",
    "        arr[l] = arr[h]\n",
    "        arr[h] = t\n",
    "\n",
    "    if h-l+1 > 2:\n",
    "        t = (int)((h-l+1)/3)\n",
    "        stoogesort(arr, l, (h-t))\n",
    "        stoogesort(arr, l+t, (h))\n",
    "        stoogesort(arr, l, (h-t))\n",
    "        \n",
    "arr = [2, 4, 5, 3, 1]\n",
    "n = len(arr)\n",
    " \n",
    "stoogesort(arr, 0, n-1)\n",
    "  \n",
    "for i in range(0, n):\n",
    "    print(arr[i])"
   ]
  }
 ],
 "metadata": {
  "kernelspec": {
   "display_name": "Python 3",
   "language": "python",
   "name": "python3"
  },
  "language_info": {
   "codemirror_mode": {
    "name": "ipython",
    "version": 3
   },
   "file_extension": ".py",
   "mimetype": "text/x-python",
   "name": "python",
   "nbconvert_exporter": "python",
   "pygments_lexer": "ipython3",
   "version": "3.6.4"
  }
 },
 "nbformat": 4,
 "nbformat_minor": 2
}
